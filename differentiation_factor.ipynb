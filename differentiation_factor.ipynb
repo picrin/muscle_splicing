{
 "cells": [
  {
   "cell_type": "markdown",
   "metadata": {},
   "source": [
    "# Murder weapons"
   ]
  },
  {
   "cell_type": "code",
   "execution_count": 47,
   "metadata": {},
   "outputs": [],
   "source": [
    "import numpy\n",
    "import math\n",
    "import matplotlib.pyplot as plt\n",
    "%matplotlib inline"
   ]
  },
  {
   "cell_type": "markdown",
   "metadata": {},
   "source": [
    "# Simulating a single cell experiment"
   ]
  },
  {
   "cell_type": "markdown",
   "metadata": {},
   "source": [
    "1. `cell_no` – number of rows/cells.\n",
    "2. `gene_no` – number of columns/genes.\n",
    "3. We simulate count matrix by assuming it follows a hierarchical process: `poisson(lognormal(0, 0.1))`. This can be argued to make sense: poisson simulates the bead and lognormal simulates the true expression of a gene. Better models are possible (e.g. assuming different genes have different expression rates, etc.).\n",
    "4. We simulate velocity to follow a normal distribution with mu=0 and sigma=1."
   ]
  },
  {
   "cell_type": "code",
   "execution_count": 2,
   "metadata": {
    "collapsed": true
   },
   "outputs": [],
   "source": [
    "def create_cell(gene_no, function, constants):\n",
    "    result = []\n",
    "    for i in range(gene_no):\n",
    "        result.append(function(*constants))\n",
    "    return numpy.array(result).reshape(1, -1)"
   ]
  },
  {
   "cell_type": "code",
   "execution_count": 3,
   "metadata": {
    "collapsed": true
   },
   "outputs": [],
   "source": [
    "def create_experiment(cell_no, gene_no, function, constants):\n",
    "    experiment = numpy.zeros(shape=(cell_no, gene_no))\n",
    "    for i in range(cell_no):\n",
    "        experiment[i, :] = create_cell(gene_no, function, constants)\n",
    "    return experiment"
   ]
  },
  {
   "cell_type": "code",
   "execution_count": 4,
   "metadata": {
    "collapsed": true
   },
   "outputs": [],
   "source": [
    "spliced = create_experiment(10, 5, lambda mu, sigma: numpy.random.poisson(numpy.random.lognormal(mu, sigma)), [0, 0.1])"
   ]
  },
  {
   "cell_type": "code",
   "execution_count": 5,
   "metadata": {},
   "outputs": [
    {
     "data": {
      "text/plain": [
       "array([[3., 0., 1., 0., 1.],\n",
       "       [0., 1., 0., 0., 1.],\n",
       "       [1., 1., 1., 1., 0.],\n",
       "       [0., 1., 1., 0., 2.],\n",
       "       [0., 2., 2., 0., 3.],\n",
       "       [2., 0., 1., 1., 2.],\n",
       "       [1., 1., 0., 1., 2.],\n",
       "       [0., 0., 0., 1., 0.],\n",
       "       [0., 1., 0., 1., 2.],\n",
       "       [1., 1., 1., 0., 5.]])"
      ]
     },
     "execution_count": 5,
     "metadata": {},
     "output_type": "execute_result"
    }
   ],
   "source": [
    "spliced"
   ]
  },
  {
   "cell_type": "code",
   "execution_count": 6,
   "metadata": {
    "collapsed": true
   },
   "outputs": [],
   "source": [
    "velocity = create_experiment(10, 5, numpy.random.normal, [0, 1])"
   ]
  },
  {
   "cell_type": "code",
   "execution_count": 7,
   "metadata": {},
   "outputs": [
    {
     "data": {
      "text/plain": [
       "array([[ 1.05151268, -0.55523072,  0.29061882, -0.1593759 , -0.00610355],\n",
       "       [ 0.4054233 ,  1.32432665, -1.73700818,  1.09682658, -2.09682831],\n",
       "       [-1.85766264, -0.1108265 , -2.68564721,  1.26874672, -0.71221106],\n",
       "       [-0.35501718, -1.03804739,  0.46941209, -0.04721858,  1.46723486],\n",
       "       [ 1.34407834, -1.89079988, -1.01275049,  0.0318938 , -0.12724241],\n",
       "       [ 0.97388816, -1.51737575, -0.0381651 ,  1.05337827,  0.68021291],\n",
       "       [-1.58291447,  1.11226167, -0.14679966, -2.01815515,  0.36624999],\n",
       "       [-0.65568299,  0.92119818,  1.15293346,  0.26607361,  0.817352  ],\n",
       "       [-0.45746708, -0.4015977 ,  1.150407  , -0.64146672,  1.08375567],\n",
       "       [-0.0533295 , -1.98975666,  1.29364153, -0.11064667, -0.98854568]])"
      ]
     },
     "execution_count": 7,
     "metadata": {},
     "output_type": "execute_result"
    }
   ],
   "source": [
    "velocity"
   ]
  },
  {
   "cell_type": "code",
   "execution_count": 8,
   "metadata": {},
   "outputs": [
    {
     "data": {
      "text/plain": [
       "(10, 5)"
      ]
     },
     "execution_count": 8,
     "metadata": {},
     "output_type": "execute_result"
    }
   ],
   "source": [
    "velocity.shape"
   ]
  },
  {
   "cell_type": "code",
   "execution_count": 9,
   "metadata": {
    "collapsed": true
   },
   "outputs": [],
   "source": [
    "assert velocity.shape == spliced.shape"
   ]
  },
  {
   "cell_type": "markdown",
   "metadata": {},
   "source": [
    "That's how we can choose an example cell's velocity"
   ]
  },
  {
   "cell_type": "code",
   "execution_count": 10,
   "metadata": {},
   "outputs": [
    {
     "data": {
      "text/plain": [
       "array([-0.65568299,  0.92119818,  1.15293346,  0.26607361,  0.817352  ])"
      ]
     },
     "execution_count": 10,
     "metadata": {},
     "output_type": "execute_result"
    }
   ],
   "source": [
    "example_velocity = velocity[-3, :]\n",
    "example_velocity"
   ]
  },
  {
   "cell_type": "markdown",
   "metadata": {},
   "source": [
    "And an example cell"
   ]
  },
  {
   "cell_type": "code",
   "execution_count": 11,
   "metadata": {},
   "outputs": [
    {
     "data": {
      "text/plain": [
       "array([0., 0., 0., 1., 0.])"
      ]
     },
     "execution_count": 11,
     "metadata": {},
     "output_type": "execute_result"
    }
   ],
   "source": [
    "example_cell = spliced[-3, :]\n",
    "example_cell"
   ]
  },
  {
   "cell_type": "markdown",
   "metadata": {},
   "source": [
    "# The next bit is some rather easy linear algebra\n",
    "\n",
    "We're just going to take a projection of velocity onto the position vector, and measure that. This will allow us to define and measure differentiation rate."
   ]
  },
  {
   "cell_type": "markdown",
   "metadata": {},
   "source": [
    "![velocity projection](https://trello-attachments.s3.amazonaws.com/5a982c9ba3afcf0a82b5b26c/5c84e116d5a3ed167f8ac28a/b4e329c442b2e809f7270ebf8ad8e07f/IMG_20190310_100347422.jpg)"
   ]
  },
  {
   "cell_type": "code",
   "execution_count": 12,
   "metadata": {
    "collapsed": true
   },
   "outputs": [],
   "source": [
    "def project(velocity, position):\n",
    "    projection = numpy.dot(velocity, position)/numpy.linalg.norm(position)\n",
    "    projection_vector = position/numpy.linalg.norm(position)*projection\n",
    "    return projection, projection_vector"
   ]
  },
  {
   "cell_type": "markdown",
   "metadata": {},
   "source": [
    "Exercise. Plot the following vectors and their respective projections on a sheet of paper"
   ]
  },
  {
   "cell_type": "code",
   "execution_count": 13,
   "metadata": {},
   "outputs": [
    {
     "data": {
      "text/plain": [
       "(0.0, array([0., 0.]))"
      ]
     },
     "execution_count": 13,
     "metadata": {},
     "output_type": "execute_result"
    }
   ],
   "source": [
    "project([0, 1], [1, 0])"
   ]
  },
  {
   "cell_type": "code",
   "execution_count": 14,
   "metadata": {},
   "outputs": [
    {
     "data": {
      "text/plain": [
       "(0.1, array([0.1, 0. ]))"
      ]
     },
     "execution_count": 14,
     "metadata": {},
     "output_type": "execute_result"
    }
   ],
   "source": [
    "project([0.1, 1], [1, 0])"
   ]
  },
  {
   "cell_type": "code",
   "execution_count": 15,
   "metadata": {},
   "outputs": [
    {
     "data": {
      "text/plain": [
       "(0.09950371902099893, array([0.0990099 , 0.00990099]))"
      ]
     },
     "execution_count": 15,
     "metadata": {},
     "output_type": "execute_result"
    }
   ],
   "source": [
    "project([0, 1], [1, 0.1])"
   ]
  },
  {
   "cell_type": "code",
   "execution_count": 16,
   "metadata": {},
   "outputs": [
    {
     "data": {
      "text/plain": [
       "(1.414213562373095, array([1., 1.]))"
      ]
     },
     "execution_count": 16,
     "metadata": {},
     "output_type": "execute_result"
    }
   ],
   "source": [
    "project([1, 1], [2, 2])"
   ]
  },
  {
   "cell_type": "code",
   "execution_count": 17,
   "metadata": {},
   "outputs": [
    {
     "data": {
      "text/plain": [
       "(-1.414213562373095, array([-1., -1.]))"
      ]
     },
     "execution_count": 17,
     "metadata": {},
     "output_type": "execute_result"
    }
   ],
   "source": [
    "project([-1, -1], [2, 2])"
   ]
  },
  {
   "cell_type": "markdown",
   "metadata": {},
   "source": [
    "And that's how we can compute the projection for a single cell"
   ]
  },
  {
   "cell_type": "code",
   "execution_count": 18,
   "metadata": {},
   "outputs": [
    {
     "data": {
      "text/plain": [
       "(0.2660736062384854,\n",
       " array([0.        , 0.        , 0.        , 0.26607361, 0.        ]))"
      ]
     },
     "execution_count": 18,
     "metadata": {},
     "output_type": "execute_result"
    }
   ],
   "source": [
    "project(velocity[-3, :], spliced[-3, :])"
   ]
  },
  {
   "cell_type": "markdown",
   "metadata": {},
   "source": [
    "We can now compute the ratio of average neutral velocity to average differentiation velocity. Let's call that \"differentiation factor\""
   ]
  },
  {
   "cell_type": "code",
   "execution_count": 24,
   "metadata": {
    "collapsed": true
   },
   "outputs": [],
   "source": [
    "def compute_differentiation(spliced, velocity):\n",
    "    differentiation_speed = []\n",
    "    neutral_speed = []\n",
    "    for cell_no in range(velocity.shape[0]):\n",
    "        p = spliced[cell_no, :]\n",
    "        v = velocity[cell_no, :]\n",
    "        speed_away, velocity_away = project(v, p)\n",
    "        neutral = numpy.linalg.norm(p - velocity_away)\n",
    "        if not math.isnan(speed_away) and not math.isnan(neutral):\n",
    "            differentiation_speed.append(speed_away)\n",
    "            neutral_speed.append(neutral)\n",
    "    differentiation_factor = sum(differentiation_speed)/sum(neutral_speed)\n",
    "    return differentiation_factor, differentiation_speed, neutral_speed"
   ]
  },
  {
   "cell_type": "code",
   "execution_count": 25,
   "metadata": {},
   "outputs": [
    {
     "data": {
      "text/plain": [
       "(-0.047351725209770525,\n",
       " [1.0369135864945325,\n",
       "  -0.5462411630757292,\n",
       "  -1.692694813273425,\n",
       "  0.9658478551122979,\n",
       "  -1.5010112641385764,\n",
       "  1.367183971141273,\n",
       "  -0.6638220210450826,\n",
       "  0.2660736062384854,\n",
       "  0.45905353652923775,\n",
       "  -1.0757195924116887],\n",
       " [2.279711203860867,\n",
       "  1.9604547254488243,\n",
       "  3.692694813273425,\n",
       "  1.48364188767088,\n",
       "  5.6241168897562375,\n",
       "  1.795093689027106,\n",
       "  3.309573332109673,\n",
       "  0.7339263937615146,\n",
       "  1.9904362062539405,\n",
       "  6.36722221454087])"
      ]
     },
     "execution_count": 25,
     "metadata": {},
     "output_type": "execute_result"
    }
   ],
   "source": [
    "compute_differentiation(spliced, velocity)"
   ]
  },
  {
   "cell_type": "markdown",
   "metadata": {},
   "source": [
    "# Centralising the experiment and computing the differentiation factor"
   ]
  },
  {
   "cell_type": "markdown",
   "metadata": {},
   "source": [
    "Before we can use this method we have to determine the correct origin. I suggest just using the most average cell as the origin. This can be achieved by recentrilising the entire experiment to put the hypothetical \"average cell\" in the middle. We don't have to touch the velocity vectors, because the transformation doesn't affect them."
   ]
  },
  {
   "cell_type": "code",
   "execution_count": 36,
   "metadata": {},
   "outputs": [],
   "source": [
    "def centralise_experiment(spliced):\n",
    "    average_cell = spliced.sum(0)/spliced.shape[0]\n",
    "    for i in range(spliced.shape[0]):\n",
    "        spliced[i, :] -= average_cell "
   ]
  },
  {
   "cell_type": "code",
   "execution_count": 37,
   "metadata": {},
   "outputs": [
    {
     "data": {
      "text/plain": [
       "array([[3., 0., 1., 0., 1.],\n",
       "       [0., 1., 0., 0., 1.],\n",
       "       [1., 1., 1., 1., 0.],\n",
       "       [0., 1., 1., 0., 2.],\n",
       "       [0., 2., 2., 0., 3.],\n",
       "       [2., 0., 1., 1., 2.],\n",
       "       [1., 1., 0., 1., 2.],\n",
       "       [0., 0., 0., 1., 0.],\n",
       "       [0., 1., 0., 1., 2.],\n",
       "       [1., 1., 1., 0., 5.]])"
      ]
     },
     "execution_count": 37,
     "metadata": {},
     "output_type": "execute_result"
    }
   ],
   "source": [
    "spliced"
   ]
  },
  {
   "cell_type": "code",
   "execution_count": 38,
   "metadata": {},
   "outputs": [],
   "source": [
    "centralise_experiment(spliced)"
   ]
  },
  {
   "cell_type": "code",
   "execution_count": 39,
   "metadata": {},
   "outputs": [
    {
     "data": {
      "text/plain": [
       "array([[ 2.2, -0.8,  0.3, -0.5, -0.8],\n",
       "       [-0.8,  0.2, -0.7, -0.5, -0.8],\n",
       "       [ 0.2,  0.2,  0.3,  0.5, -1.8],\n",
       "       [-0.8,  0.2,  0.3, -0.5,  0.2],\n",
       "       [-0.8,  1.2,  1.3, -0.5,  1.2],\n",
       "       [ 1.2, -0.8,  0.3,  0.5,  0.2],\n",
       "       [ 0.2,  0.2, -0.7,  0.5,  0.2],\n",
       "       [-0.8, -0.8, -0.7,  0.5, -1.8],\n",
       "       [-0.8,  0.2, -0.7,  0.5,  0.2],\n",
       "       [ 0.2,  0.2,  0.3, -0.5,  3.2]])"
      ]
     },
     "execution_count": 39,
     "metadata": {},
     "output_type": "execute_result"
    }
   ],
   "source": [
    "spliced"
   ]
  },
  {
   "cell_type": "markdown",
   "metadata": {
    "collapsed": true
   },
   "source": [
    "Now we can compute the differentiation factor"
   ]
  },
  {
   "cell_type": "code",
   "execution_count": 43,
   "metadata": {},
   "outputs": [],
   "source": [
    "differentiation_factor, neutral_velocity, differentiation_velocity = compute_differentiation(spliced, velocity)"
   ]
  },
  {
   "cell_type": "code",
   "execution_count": 44,
   "metadata": {},
   "outputs": [
    {
     "data": {
      "text/plain": [
       "0.00020177920939495875"
      ]
     },
     "execution_count": 44,
     "metadata": {},
     "output_type": "execute_result"
    }
   ],
   "source": [
    "differentiation_factor"
   ]
  },
  {
   "cell_type": "code",
   "execution_count": 50,
   "metadata": {},
   "outputs": [
    {
     "data": {
      "image/png": "[encoded data removed]",
      "text/plain": [
       "<Figure size 432x288 with 1 Axes>"
      ]
     },
     "metadata": {},
     "output_type": "display_data"
    }
   ],
   "source": [
    "_ = plt.hist(neutral_velocity)"
   ]
  },
  {
   "cell_type": "code",
   "execution_count": 51,
   "metadata": {},
   "outputs": [
    {
     "data": {
      "image/png": "[encoded data removed]",
      "text/plain": [
       "<Figure size 432x288 with 1 Axes>"
      ]
     },
     "metadata": {},
     "output_type": "display_data"
    }
   ],
   "source": [
    "_ = plt.hist(differentiation_velocity)"
   ]
  }
 ],
 "metadata": {
  "kernelspec": {
   "display_name": "Python 3 Clinical Applicatoins",
   "language": "python",
   "name": "clinical_applications"
  },
  "language_info": {
   "codemirror_mode": {
    "name": "ipython",
    "version": 3
   },
   "file_extension": ".py",
   "mimetype": "text/x-python",
   "name": "python",
   "nbconvert_exporter": "python",
   "pygments_lexer": "ipython3",
   "version": "3.5.2"
  }
 },
 "nbformat": 4,
 "nbformat_minor": 2
}
